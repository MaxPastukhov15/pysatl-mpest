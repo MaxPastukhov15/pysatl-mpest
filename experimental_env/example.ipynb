{
 "cells": [
  {
   "cell_type": "code",
   "execution_count": 6,
   "id": "0012474e-9b08-4ddb-a251-455815d00148",
   "metadata": {},
   "outputs": [
    {
     "name": "stdout",
     "output_type": "stream",
     "text": [
      "['/usr/lib64/python313.zip', '/usr/lib64/python3.13', '/usr/lib64/python3.13/lib-dynload', '', '/home/iraedeus/Projects/pysatl-mpest/.venv/lib64/python3.13/site-packages', '/home/iraedeus/Projects/pysatl-mpest/.venv/lib/python3.13/site-packages', '/your/path/to/pysatl-mpest', '/your/path/to/pysatl-mpest', '/your/path/to/pysatl-mpest', '/home/iraedeus/Projects/pysatl-mpest']\n"
     ]
    }
   ],
   "source": [
    "import sys\n",
    "sys.path.append('/your/path/to/pysatl-mpest')"
   ]
  },
  {
   "cell_type": "markdown",
   "id": "6e08231c-a0d6-40ca-8104-b3ed1d8e5d8a",
   "metadata": {},
   "source": [
    "###Stage 1 of experiment:\n",
    "Creating dataset"
   ]
  },
  {
   "cell_type": "markdown",
   "id": "e8327cf8-503f-4074-9eea-d349680653e8",
   "metadata": {},
   "source": [
    "Importing"
   ]
  },
  {
   "cell_type": "code",
   "execution_count": 7,
   "id": "b1f9b5ef-10d2-4fe7-9403-0d78addcf6cb",
   "metadata": {},
   "outputs": [],
   "source": [
    "from pathlib import Path\n",
    "\n",
    "import numpy as np\n",
    "\n",
    "from experimental_env.preparation.dataset_generator import (\n",
    "    ConcreteDatasetGenerator,\n",
    "    RandomDatasetGenerator,\n",
    ")\n",
    "from mpest.models import ExponentialModel, GaussianModel, WeibullModelExp"
   ]
  },
  {
   "cell_type": "markdown",
   "id": "216257da-3d34-4ddd-873e-e2f4e9210fbe",
   "metadata": {},
   "source": [
    "Setting up paths to working directory, sample size and seed"
   ]
  },
  {
   "cell_type": "code",
   "execution_count": 9,
   "id": "3d8975c4-655d-4d79-94b9-502a25e251e5",
   "metadata": {},
   "outputs": [],
   "source": [
    "WORKING_DIR = Path(\"/your/path/to/experiment/stage_1\")\n",
    "SAMPLES_SIZE = 100\n",
    "\n",
    "seed = 42"
   ]
  },
  {
   "cell_type": "markdown",
   "id": "d4b99748-1680-4204-87ba-c9f6fc048726",
   "metadata": {},
   "source": [
    "Creating random dataset generator and selecting mixtures for experiment.\n",
    "Performing dataset generation."
   ]
  },
  {
   "cell_type": "code",
   "execution_count": 10,
   "id": "9deb70ac-1f62-4aff-ba41-1bc1a4f9cb31",
   "metadata": {},
   "outputs": [
    {
     "name": "stderr",
     "output_type": "stream",
     "text": [
      "100%|███████████████████████████████████████████████████████████████████████████████████████████████████████████████████████████████████████████████████████| 10/10 [00:00<00:00, 16.62it/s]\n",
      "100%|███████████████████████████████████████████████████████████████████████████████████████████████████████████████████████████████████████████████████████| 10/10 [00:00<00:00, 16.54it/s]\n",
      "100%|███████████████████████████████████████████████████████████████████████████████████████████████████████████████████████████████████████████████████████| 10/10 [00:00<00:00, 17.49it/s]\n",
      "100%|███████████████████████████████████████████████████████████████████████████████████████████████████████████████████████████████████████████████████████| 10/10 [00:00<00:00, 17.64it/s]\n",
      "100%|███████████████████████████████████████████████████████████████████████████████████████████████████████████████████████████████████████████████████████| 10/10 [00:00<00:00, 18.44it/s]\n",
      "100%|███████████████████████████████████████████████████████████████████████████████████████████████████████████████████████████████████████████████████████| 10/10 [00:00<00:00, 16.89it/s]\n",
      "100%|███████████████████████████████████████████████████████████████████████████████████████████████████████████████████████████████████████████████████████| 10/10 [00:00<00:00, 16.44it/s]\n"
     ]
    }
   ],
   "source": [
    "r_generator = RandomDatasetGenerator(seed)\n",
    "mixtures = [\n",
    "    [ExponentialModel],\n",
    "    [GaussianModel],\n",
    "    [WeibullModelExp],\n",
    "    [WeibullModelExp, GaussianModel],\n",
    "    [ExponentialModel, GaussianModel],\n",
    "    [WeibullModelExp, WeibullModelExp],\n",
    "    [ExponentialModel, ExponentialModel],\n",
    "]\n",
    "for models in mixtures:\n",
    "    r_generator.generate(SAMPLES_SIZE, models, Path(WORKING_DIR), exp_count=10)"
   ]
  },
  {
   "cell_type": "markdown",
   "id": "e70158fc-eade-4e39-9b34-05785291db24",
   "metadata": {},
   "source": [
    "Initializing specific generators and adding the distributions we need and their parameters to the mixture that we will generate."
   ]
  },
  {
   "cell_type": "code",
   "execution_count": 11,
   "id": "24faaa96-90ce-43a5-981f-86766c2433cb",
   "metadata": {},
   "outputs": [],
   "source": [
    "c_generator1 = ConcreteDatasetGenerator(seed)\n",
    "models = [ExponentialModel]\n",
    "c_generator1.add_distribution(models[0], [1.0], 1.0)\n",
    "c_generator1.generate(SAMPLES_SIZE, Path(WORKING_DIR), 5)\n",
    "\n",
    "c_generator2 = ConcreteDatasetGenerator(seed)\n",
    "models = [GaussianModel]\n",
    "c_generator2.add_distribution(models[0], [0, 1.0], 1.0)\n",
    "c_generator2.generate(SAMPLES_SIZE, Path(WORKING_DIR), 5)\n",
    "\n",
    "c_generator3 = ConcreteDatasetGenerator(seed)\n",
    "models = [WeibullModelExp]\n",
    "c_generator3.add_distribution(models[0], [1.0, 1.0], 1.0)\n",
    "c_generator3.generate(SAMPLES_SIZE, Path(WORKING_DIR), 5)\n",
    "\n",
    "c_generator4 = ConcreteDatasetGenerator(seed)\n",
    "models = [WeibullModelExp]\n",
    "c_generator4.add_distribution(models[0], [1.0, 1.0], 1.0)\n",
    "c_generator4.generate(SAMPLES_SIZE, Path(WORKING_DIR), 5)\n",
    "\n",
    "c_generator5 = ConcreteDatasetGenerator(seed)\n",
    "models = [WeibullModelExp]\n",
    "c_generator5.add_distribution(models[0], [1.0, 0.5], 1.0)\n",
    "c_generator5.generate(SAMPLES_SIZE, Path(WORKING_DIR), 5)\n",
    "\n",
    "c_generator6 = ConcreteDatasetGenerator(seed)\n",
    "models = [GaussianModel, GaussianModel]\n",
    "c_generator6.add_distribution(models[0], [-1.0, 2.5], 0.3)\n",
    "c_generator6.add_distribution(models[1], [1.0, 0.5], 0.7)\n",
    "c_generator6.generate(SAMPLES_SIZE, Path(WORKING_DIR), 10)\n",
    "\n",
    "c_generator7 = ConcreteDatasetGenerator(seed)\n",
    "models = [GaussianModel, GaussianModel]\n",
    "c_generator7.add_distribution(models[0], [0.0, 1.5], 0.6)\n",
    "c_generator7.add_distribution(models[1], [1.0, 1.0], 0.4)\n",
    "c_generator7.generate(SAMPLES_SIZE, Path(WORKING_DIR), 10)"
   ]
  },
  {
   "cell_type": "markdown",
   "id": "d7ecf888-5cf2-4417-8dce-47600f8cfe61",
   "metadata": {},
   "source": [
    "###Stage 2 of experiment:\n",
    "Performing parameter estimation"
   ]
  },
  {
   "cell_type": "markdown",
   "id": "ffdc492a-937c-4871-b1c6-6f1538a4c648",
   "metadata": {},
   "source": [
    "Importing"
   ]
  },
  {
   "cell_type": "code",
   "execution_count": 12,
   "id": "36ec2564-950d-479f-98f0-96266ccd3b37",
   "metadata": {},
   "outputs": [],
   "source": [
    "import random\n",
    "from pathlib import Path\n",
    "\n",
    "from experimental_env.experiment.estimators import (\n",
    "    LikelihoodEstimator,\n",
    "    LMomentsEstimator,\n",
    ")\n",
    "from experimental_env.experiment.experiment_executors.random_executor import (\n",
    "    RandomExperimentExecutor,\n",
    ")\n",
    "from experimental_env.preparation.dataset_parser import SamplesDatasetParser\n",
    "from mpest.em.breakpointers import StepCountBreakpointer\n",
    "from mpest.em.distribution_checkers import (\n",
    "    FiniteChecker,\n",
    "    PriorProbabilityThresholdChecker,\n",
    ")"
   ]
  },
  {
   "cell_type": "markdown",
   "id": "14abe0d6-2d1d-43a4-8c19-652b4d3ebbdb",
   "metadata": {},
   "source": [
    "Setting up source path, where the dataset is located, working path and seed."
   ]
  },
  {
   "cell_type": "code",
   "execution_count": 13,
   "id": "f2cd807a-f314-4d25-9f33-dc3064b60edd",
   "metadata": {},
   "outputs": [],
   "source": [
    "SOURCE_DIR = Path(\"/your/path/to/experiment/stage_1\")\n",
    "WORKING_DIR = Path(\"/your/path/to/experiment/stage_2\")\n",
    "\n",
    "random.seed(42)"
   ]
  },
  {
   "cell_type": "markdown",
   "id": "e3c4f325-5022-4730-880e-d0b5d78e483a",
   "metadata": {},
   "source": [
    "Parse dataset, creating experiment executors with chosen methods and executing."
   ]
  },
  {
   "cell_type": "code",
   "execution_count": 14,
   "id": "1762ee1c-9381-4fd7-b2d2-a5adb7d6f1d9",
   "metadata": {},
   "outputs": [
    {
     "name": "stdout",
     "output_type": "stream",
     "text": [
      "Starting L-moments estimation\n"
     ]
    },
    {
     "name": "stderr",
     "output_type": "stream",
     "text": [
      "100%|███████████████████████████████████████████████████████████████████████████████████████████████████████████████████████████████████████████████████████| 15/15 [00:05<00:00,  2.86it/s]\n"
     ]
    },
    {
     "name": "stdout",
     "output_type": "stream",
     "text": [
      "Starting L-moments estimation\n"
     ]
    },
    {
     "name": "stderr",
     "output_type": "stream",
     "text": [
      "100%|███████████████████████████████████████████████████████████████████████████████████████████████████████████████████████████████████████████████████████| 15/15 [00:05<00:00,  2.74it/s]\n"
     ]
    },
    {
     "name": "stdout",
     "output_type": "stream",
     "text": [
      "Starting L-moments estimation\n"
     ]
    },
    {
     "name": "stderr",
     "output_type": "stream",
     "text": [
      "100%|███████████████████████████████████████████████████████████████████████████████████████████████████████████████████████████████████████████████████████| 25/25 [00:08<00:00,  2.84it/s]\n"
     ]
    },
    {
     "name": "stdout",
     "output_type": "stream",
     "text": [
      "Starting L-moments estimation\n"
     ]
    },
    {
     "name": "stderr",
     "output_type": "stream",
     "text": [
      "100%|███████████████████████████████████████████████████████████████████████████████████████████████████████████████████████████████████████████████████████| 10/10 [00:03<00:00,  2.60it/s]\n"
     ]
    },
    {
     "name": "stdout",
     "output_type": "stream",
     "text": [
      "Starting L-moments estimation\n"
     ]
    },
    {
     "name": "stderr",
     "output_type": "stream",
     "text": [
      "100%|███████████████████████████████████████████████████████████████████████████████████████████████████████████████████████████████████████████████████████| 10/10 [00:03<00:00,  2.88it/s]\n"
     ]
    },
    {
     "name": "stdout",
     "output_type": "stream",
     "text": [
      "Starting L-moments estimation\n"
     ]
    },
    {
     "name": "stderr",
     "output_type": "stream",
     "text": [
      "100%|███████████████████████████████████████████████████████████████████████████████████████████████████████████████████████████████████████████████████████| 10/10 [00:03<00:00,  2.69it/s]\n"
     ]
    },
    {
     "name": "stdout",
     "output_type": "stream",
     "text": [
      "Starting L-moments estimation\n"
     ]
    },
    {
     "name": "stderr",
     "output_type": "stream",
     "text": [
      "100%|███████████████████████████████████████████████████████████████████████████████████████████████████████████████████████████████████████████████████████| 10/10 [00:03<00:00,  2.79it/s]\n"
     ]
    },
    {
     "name": "stdout",
     "output_type": "stream",
     "text": [
      "Starting L-moments estimation\n"
     ]
    },
    {
     "name": "stderr",
     "output_type": "stream",
     "text": [
      "100%|███████████████████████████████████████████████████████████████████████████████████████████████████████████████████████████████████████████████████████| 20/20 [00:07<00:00,  2.70it/s]\n"
     ]
    },
    {
     "name": "stdout",
     "output_type": "stream",
     "text": [
      "Starting Likelihood estimation\n"
     ]
    },
    {
     "name": "stderr",
     "output_type": "stream",
     "text": [
      "100%|███████████████████████████████████████████████████████████████████████████████████████████████████████████████████████████████████████████████████████| 15/15 [00:01<00:00,  9.82it/s]\n"
     ]
    },
    {
     "name": "stdout",
     "output_type": "stream",
     "text": [
      "Starting Likelihood estimation\n"
     ]
    },
    {
     "name": "stderr",
     "output_type": "stream",
     "text": [
      "100%|███████████████████████████████████████████████████████████████████████████████████████████████████████████████████████████████████████████████████████| 15/15 [00:06<00:00,  2.21it/s]\n"
     ]
    },
    {
     "name": "stdout",
     "output_type": "stream",
     "text": [
      "Starting Likelihood estimation\n"
     ]
    },
    {
     "name": "stderr",
     "output_type": "stream",
     "text": [
      "100%|███████████████████████████████████████████████████████████████████████████████████████████████████████████████████████████████████████████████████████| 25/25 [00:07<00:00,  3.29it/s]\n"
     ]
    },
    {
     "name": "stdout",
     "output_type": "stream",
     "text": [
      "Starting Likelihood estimation\n"
     ]
    },
    {
     "name": "stderr",
     "output_type": "stream",
     "text": [
      "100%|███████████████████████████████████████████████████████████████████████████████████████████████████████████████████████████████████████████████████████| 10/10 [00:12<00:00,  1.24s/it]\n"
     ]
    },
    {
     "name": "stdout",
     "output_type": "stream",
     "text": [
      "Starting Likelihood estimation\n"
     ]
    },
    {
     "name": "stderr",
     "output_type": "stream",
     "text": [
      "100%|███████████████████████████████████████████████████████████████████████████████████████████████████████████████████████████████████████████████████████| 10/10 [00:06<00:00,  1.46it/s]\n"
     ]
    },
    {
     "name": "stdout",
     "output_type": "stream",
     "text": [
      "Starting Likelihood estimation\n"
     ]
    },
    {
     "name": "stderr",
     "output_type": "stream",
     "text": [
      "100%|███████████████████████████████████████████████████████████████████████████████████████████████████████████████████████████████████████████████████████| 10/10 [00:08<00:00,  1.20it/s]\n"
     ]
    },
    {
     "name": "stdout",
     "output_type": "stream",
     "text": [
      "Starting Likelihood estimation\n"
     ]
    },
    {
     "name": "stderr",
     "output_type": "stream",
     "text": [
      "100%|███████████████████████████████████████████████████████████████████████████████████████████████████████████████████████████████████████████████████████| 10/10 [00:02<00:00,  3.87it/s]\n"
     ]
    },
    {
     "name": "stdout",
     "output_type": "stream",
     "text": [
      "Starting Likelihood estimation\n"
     ]
    },
    {
     "name": "stderr",
     "output_type": "stream",
     "text": [
      "100%|███████████████████████████████████████████████████████████████████████████████████████████████████████████████████████████████████████████████████████| 20/20 [00:26<00:00,  1.30s/it]\n"
     ]
    }
   ],
   "source": [
    "# Parse stage 1\n",
    "parser = SamplesDatasetParser()\n",
    "datasets = parser.parse(SOURCE_DIR)\n",
    "\n",
    "# Execute stage 2\n",
    "executor = RandomExperimentExecutor(WORKING_DIR, 5, seed)\n",
    "executor.execute(\n",
    "    datasets,\n",
    "    LMomentsEstimator(\n",
    "        StepCountBreakpointer(max_step=16),\n",
    "        FiniteChecker() + PriorProbabilityThresholdChecker(),\n",
    "    ),\n",
    ")\n",
    "\n",
    "executor = RandomExperimentExecutor(WORKING_DIR, 5, seed)\n",
    "executor.execute(\n",
    "    datasets,\n",
    "    LikelihoodEstimator(\n",
    "        StepCountBreakpointer(max_step=16),\n",
    "        FiniteChecker() + PriorProbabilityThresholdChecker(),\n",
    "    ),\n",
    ")"
   ]
  },
  {
   "cell_type": "markdown",
   "id": "0891fb9a-86d4-4d18-9280-2abd7243d3ad",
   "metadata": {},
   "source": [
    "###Stage 3:\n",
    "Analysis results of the stage 2"
   ]
  },
  {
   "cell_type": "markdown",
   "id": "80951e63-2246-4810-af43-87ef0838897d",
   "metadata": {},
   "source": [
    "Importing"
   ]
  },
  {
   "cell_type": "code",
   "execution_count": 15,
   "id": "0a1ffeef-ef76-445f-a2f4-d9d135865998",
   "metadata": {},
   "outputs": [],
   "source": [
    "from pathlib import Path\n",
    "\n",
    "from experimental_env.analysis.analysis import Analysis\n",
    "from experimental_env.analysis.analyze_strategies.density_plot import DensityPlot\n",
    "from experimental_env.analysis.analyze_strategies.error_convergence import (\n",
    "    ErrorConvergence,\n",
    ")\n",
    "from experimental_env.analysis.analyze_strategies.time_plot import TimePlot\n",
    "from experimental_env.analysis.analyze_summarizers.error_summarizer import (\n",
    "    ErrorSummarizer,\n",
    ")\n",
    "from experimental_env.analysis.analyze_summarizers.time_summarizer import TimeSummarizer\n",
    "from experimental_env.analysis.metrics import SquaredError\n",
    "from experimental_env.experiment.experiment_parser import ExperimentParser\n"
   ]
  },
  {
   "cell_type": "markdown",
   "id": "bc06af0e-dda6-4fc0-a2ae-b7862e6971b7",
   "metadata": {},
   "source": [
    "Setting up all paths"
   ]
  },
  {
   "cell_type": "code",
   "execution_count": 16,
   "id": "2850ae2c-ba64-46b8-be0b-16e4079cab54",
   "metadata": {},
   "outputs": [],
   "source": [
    "WORKING_DIR = Path(\"/your/path/to/experiment/stage_3\")\n",
    "LMOMENTS_DIR = Path(\"/your/path/to/experiment/stage_2/LM-EM\")\n",
    "LIKELIHOOD_DIR = Path(\"/your/path/to/experiment/stage_2/MLE-EM\")"
   ]
  },
  {
   "cell_type": "markdown",
   "id": "6f578fa4-9c09-44f6-9cab-6ad12283ba20",
   "metadata": {},
   "source": [
    "Setting up aspects in which we will analyze"
   ]
  },
  {
   "cell_type": "code",
   "execution_count": 17,
   "id": "fd68ea66-a7c9-4d5a-949a-89cb4925b029",
   "metadata": {},
   "outputs": [],
   "source": [
    "results_1 = ExperimentParser().parse(LMOMENTS_DIR)\n",
    "results_2 = ExperimentParser().parse(LIKELIHOOD_DIR)\n",
    "\n",
    "analyze_actions = [DensityPlot(), TimePlot(), ErrorConvergence(SquaredError())]\n",
    "analyze_summarizers = [ErrorSummarizer(SquaredError()), TimeSummarizer()]"
   ]
  },
  {
   "cell_type": "markdown",
   "id": "be3943f5-fc61-4a01-b3c2-2ee60cf79abd",
   "metadata": {},
   "source": [
    "Analysis"
   ]
  },
  {
   "cell_type": "code",
   "execution_count": 18,
   "id": "50be2693-8d6d-472b-8b0e-19e12ad261c4",
   "metadata": {},
   "outputs": [
    {
     "name": "stderr",
     "output_type": "stream",
     "text": [
      "100%|███████████████████████████████████████████████████████████████████████████████████████████████████████████████████████████████████████████████████████| 15/15 [00:04<00:00,  3.03it/s]\n",
      "100%|███████████████████████████████████████████████████████████████████████████████████████████████████████████████████████████████████████████████████████| 15/15 [00:06<00:00,  2.46it/s]\n",
      "/home/iraedeus/Projects/pysatl-mpest/mpest/models/weibull.py:76: RuntimeWarning: overflow encountered in exp\n",
      "  return (ek / el) * (xl ** (ek - 1.0)) / np.exp(xl**ek)\n",
      "100%|███████████████████████████████████████████████████████████████████████████████████████████████████████████████████████████████████████████████████████| 25/25 [00:08<00:00,  3.08it/s]\n",
      "100%|███████████████████████████████████████████████████████████████████████████████████████████████████████████████████████████████████████████████████████| 10/10 [00:05<00:00,  1.96it/s]\n",
      "100%|███████████████████████████████████████████████████████████████████████████████████████████████████████████████████████████████████████████████████████| 10/10 [00:04<00:00,  2.15it/s]\n",
      "100%|███████████████████████████████████████████████████████████████████████████████████████████████████████████████████████████████████████████████████████| 10/10 [00:04<00:00,  2.30it/s]\n",
      "100%|███████████████████████████████████████████████████████████████████████████████████████████████████████████████████████████████████████████████████████| 10/10 [00:03<00:00,  2.80it/s]\n",
      "100%|███████████████████████████████████████████████████████████████████████████████████████████████████████████████████████████████████████████████████████| 20/20 [00:09<00:00,  2.13it/s]\n",
      "100%|███████████████████████████████████████████████████████████████████████████████████████████████████████████████████████████████████████████████████████| 15/15 [00:04<00:00,  3.05it/s]\n",
      "100%|███████████████████████████████████████████████████████████████████████████████████████████████████████████████████████████████████████████████████████| 15/15 [00:06<00:00,  2.50it/s]\n",
      "100%|███████████████████████████████████████████████████████████████████████████████████████████████████████████████████████████████████████████████████████| 25/25 [00:08<00:00,  2.79it/s]\n",
      "100%|███████████████████████████████████████████████████████████████████████████████████████████████████████████████████████████████████████████████████████| 10/10 [00:05<00:00,  1.95it/s]\n",
      "100%|███████████████████████████████████████████████████████████████████████████████████████████████████████████████████████████████████████████████████████| 10/10 [00:04<00:00,  2.34it/s]\n",
      "100%|███████████████████████████████████████████████████████████████████████████████████████████████████████████████████████████████████████████████████████| 10/10 [00:04<00:00,  2.22it/s]\n",
      "100%|███████████████████████████████████████████████████████████████████████████████████████████████████████████████████████████████████████████████████████| 10/10 [00:03<00:00,  2.72it/s]\n",
      "100%|███████████████████████████████████████████████████████████████████████████████████████████████████████████████████████████████████████████████████████| 20/20 [00:09<00:00,  2.05it/s]\n",
      "100%|███████████████████████████████████████████████████████████████████████████████████████████████████████████████████████████████████████████████████████| 15/15 [00:05<00:00,  2.79it/s]\n",
      "100%|███████████████████████████████████████████████████████████████████████████████████████████████████████████████████████████████████████████████████████| 15/15 [00:07<00:00,  2.05it/s]\n",
      "100%|███████████████████████████████████████████████████████████████████████████████████████████████████████████████████████████████████████████████████████| 25/25 [00:10<00:00,  2.39it/s]\n",
      "100%|███████████████████████████████████████████████████████████████████████████████████████████████████████████████████████████████████████████████████████| 10/10 [00:07<00:00,  1.38it/s]\n",
      "100%|███████████████████████████████████████████████████████████████████████████████████████████████████████████████████████████████████████████████████████| 10/10 [00:05<00:00,  1.73it/s]\n",
      "100%|███████████████████████████████████████████████████████████████████████████████████████████████████████████████████████████████████████████████████████| 10/10 [00:05<00:00,  1.67it/s]\n",
      "100%|███████████████████████████████████████████████████████████████████████████████████████████████████████████████████████████████████████████████████████| 10/10 [00:04<00:00,  2.27it/s]\n",
      "100%|███████████████████████████████████████████████████████████████████████████████████████████████████████████████████████████████████████████████████████| 20/20 [00:13<00:00,  1.48it/s]\n"
     ]
    }
   ],
   "source": [
    "Analysis(WORKING_DIR, analyze_actions, analyze_summarizers).analyze(results_1, \"LM-EM\")\n",
    "Analysis(WORKING_DIR, analyze_actions, analyze_summarizers).analyze(results_2, \"MLE-EM\")\n",
    "Analysis(WORKING_DIR, analyze_actions, analyze_summarizers).compare(\n",
    "    results_1, results_2, \"LM-EM\", \"MLE-EM\"\n",
    ")\n"
   ]
  }
 ],
 "metadata": {
  "kernelspec": {
   "display_name": "Python 3 (ipykernel)",
   "language": "python",
   "name": "python3"
  },
  "language_info": {
   "codemirror_mode": {
    "name": "ipython",
    "version": 3
   },
   "file_extension": ".py",
   "mimetype": "text/x-python",
   "name": "python",
   "nbconvert_exporter": "python",
   "pygments_lexer": "ipython3",
   "version": "3.13.0"
  }
 },
 "nbformat": 4,
 "nbformat_minor": 5
}
